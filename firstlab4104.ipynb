{
  "nbformat": 4,
  "nbformat_minor": 0,
  "metadata": {
    "colab": {
      "provenance": [],
      "authorship_tag": "ABX9TyMcpVLpAewVZ3jI//iHsZdk",
      "include_colab_link": true
    },
    "kernelspec": {
      "name": "python3",
      "display_name": "Python 3"
    },
    "language_info": {
      "name": "python"
    }
  },
  "cells": [
    {
      "cell_type": "markdown",
      "metadata": {
        "id": "view-in-github",
        "colab_type": "text"
      },
      "source": [
        "<a href=\"https://colab.research.google.com/github/Shimanto9sqr/4104_DSP/blob/main/firstlab4104.ipynb\" target=\"_parent\"><img src=\"https://colab.research.google.com/assets/colab-badge.svg\" alt=\"Open In Colab\"/></a>"
      ]
    },
    {
      "cell_type": "code",
      "execution_count": 1,
      "metadata": {
        "colab": {
          "base_uri": "https://localhost:8080/"
        },
        "id": "cXvmzki08x1R",
        "outputId": "136f5c43-af15-4f5a-c02d-0186cd4d20ca"
      },
      "outputs": [
        {
          "output_type": "stream",
          "name": "stdout",
          "text": [
            "Hello\n"
          ]
        }
      ],
      "source": [
        "print(\"Hello\")"
      ]
    },
    {
      "cell_type": "code",
      "source": [
        "#variables\n",
        "a=10\n",
        "a=\"name\"\n",
        "a=2.8\n",
        "print(a)"
      ],
      "metadata": {
        "colab": {
          "base_uri": "https://localhost:8080/"
        },
        "id": "E9a2yIzh872L",
        "outputId": "a141ffd3-9cca-4dc1-eab5-0abe2154df90"
      },
      "execution_count": 2,
      "outputs": [
        {
          "output_type": "stream",
          "name": "stdout",
          "text": [
            "2.8\n"
          ]
        }
      ]
    },
    {
      "cell_type": "code",
      "source": [
        "a=int(input(\"enter \"))\n",
        "print(type(a))"
      ],
      "metadata": {
        "colab": {
          "base_uri": "https://localhost:8080/"
        },
        "id": "j2cW3oJr9G0h",
        "outputId": "676b70ab-4132-4e68-80f2-810f029e5187"
      },
      "execution_count": 4,
      "outputs": [
        {
          "output_type": "stream",
          "name": "stdout",
          "text": [
            "enter 10\n",
            "<class 'int'>\n"
          ]
        }
      ]
    },
    {
      "cell_type": "code",
      "source": [
        "s=\"Digital Signal Processing\"\n",
        "print(s[2:5])\n",
        "print(s[2:])\n",
        "print(s[:5])\n",
        "print(s[:])\n"
      ],
      "metadata": {
        "colab": {
          "base_uri": "https://localhost:8080/"
        },
        "id": "nsgloaOU9lNi",
        "outputId": "23f74dea-f26d-44d6-ac2e-e7b60556c751"
      },
      "execution_count": 12,
      "outputs": [
        {
          "output_type": "stream",
          "name": "stdout",
          "text": [
            "git\n",
            "gital Signal Processing\n",
            "Digit\n",
            "Digital Signal Processing\n"
          ]
        }
      ]
    },
    {
      "cell_type": "code",
      "source": [
        "fname=\"Mazharul\"\n",
        "lname=\"Islam\"\n",
        "print(\"First name  \"+fname+\" and last name is \"+lname)"
      ],
      "metadata": {
        "colab": {
          "base_uri": "https://localhost:8080/"
        },
        "id": "b9kWV2cN-uzN",
        "outputId": "66c87a72-c258-4c91-adfc-894e34232248"
      },
      "execution_count": 14,
      "outputs": [
        {
          "output_type": "stream",
          "name": "stdout",
          "text": [
            "First name  Mazharul and last name is Islam\n"
          ]
        }
      ]
    },
    {
      "cell_type": "code",
      "source": [
        "s=\"Digital Signal Processing\"\n",
        "print(len(s))\n",
        "print(s.find(\"G\"))\n",
        "print(\"g\" in s)\n",
        "s=s.replace(\"Processing\",\"lab\")\n",
        "print(s);"
      ],
      "metadata": {
        "colab": {
          "base_uri": "https://localhost:8080/"
        },
        "id": "zgnVvV7l_VUT",
        "outputId": "b6425066-63f4-43ff-d382-73684247cb68"
      },
      "execution_count": 21,
      "outputs": [
        {
          "output_type": "stream",
          "name": "stdout",
          "text": [
            "25\n",
            "-1\n",
            "True\n",
            "Digital Signal lab\n"
          ]
        }
      ]
    },
    {
      "cell_type": "code",
      "source": [],
      "metadata": {
        "id": "44s6mFKWA8v0"
      },
      "execution_count": null,
      "outputs": []
    },
    {
      "cell_type": "code",
      "source": [
        "#operator\n",
        "\n",
        "3**2\n",
        "x=8/3\n",
        "round(x)\n",
        "abs(-5)\n",
        "\n",
        "import math\n",
        "\n",
        "y=math.ceil(2.8)\n",
        "z=math.floor(2.8)\n",
        "print(y,z)"
      ],
      "metadata": {
        "colab": {
          "base_uri": "https://localhost:8080/"
        },
        "id": "KUdKAMzzA8zM",
        "outputId": "928f9ae5-603f-4d10-c810-1a4f23abd1a8"
      },
      "execution_count": 28,
      "outputs": [
        {
          "output_type": "stream",
          "name": "stdout",
          "text": [
            "3 2\n"
          ]
        }
      ]
    },
    {
      "cell_type": "code",
      "source": [
        "#condition\n",
        "\n",
        "num=10\n",
        "\n",
        "if num>0 :\n",
        "  print(\"positive\")\n",
        "elif num==0 :\n",
        "  print(\"Zero\")\n",
        "else :\n",
        "  print(\"Negative\")\n",
        "# && || and not >=_=<'_'>_<\n"
      ],
      "metadata": {
        "colab": {
          "base_uri": "https://localhost:8080/"
        },
        "id": "3QsLhqa7CM2u",
        "outputId": "b5681643-69a2-4917-a743-68a177e7647a"
      },
      "execution_count": 33,
      "outputs": [
        {
          "output_type": "stream",
          "name": "stdout",
          "text": [
            "positive\n"
          ]
        }
      ]
    },
    {
      "cell_type": "code",
      "source": [
        "#loop\n",
        "\n",
        "i=1\n",
        "while i<5:\n",
        "  print(i)\n",
        "  i+=1\n",
        "\n",
        "for i in \"Digital\":\n",
        "    print(i,end=\"\")\n",
        "\n",
        "for i in range(10):\n",
        "    print(i)"
      ],
      "metadata": {
        "colab": {
          "base_uri": "https://localhost:8080/"
        },
        "id": "bj0DySh8DQCs",
        "outputId": "9c0b3115-9c40-41d2-fb6c-1468860bd110"
      },
      "execution_count": 42,
      "outputs": [
        {
          "output_type": "stream",
          "name": "stdout",
          "text": [
            "1\n",
            "2\n",
            "3\n",
            "4\n",
            "Digital0\n",
            "1\n",
            "2\n",
            "3\n",
            "4\n",
            "5\n",
            "6\n",
            "7\n",
            "8\n",
            "9\n"
          ]
        }
      ]
    },
    {
      "cell_type": "code",
      "source": [
        "for i in range(5,10,2):\n",
        "  print(i)"
      ],
      "metadata": {
        "colab": {
          "base_uri": "https://localhost:8080/"
        },
        "id": "iaNHXjNvE4Sl",
        "outputId": "05c930fb-8463-4d59-988d-db768dafb686"
      },
      "execution_count": 46,
      "outputs": [
        {
          "output_type": "stream",
          "name": "stdout",
          "text": [
            "5\n",
            "7\n",
            "9\n"
          ]
        }
      ]
    },
    {
      "cell_type": "code",
      "source": [
        "#nested\n",
        "\n",
        "for i in range(4):\n",
        "  for j in range(3):\n",
        "    print(f'{i},{j}') #formatted string"
      ],
      "metadata": {
        "colab": {
          "base_uri": "https://localhost:8080/"
        },
        "id": "7xcDQkBXFFPJ",
        "outputId": "ed181c1e-26b6-4a52-d861-72e246d19a31"
      },
      "execution_count": 47,
      "outputs": [
        {
          "output_type": "stream",
          "name": "stdout",
          "text": [
            "0,0\n",
            "0,1\n",
            "0,2\n",
            "1,0\n",
            "1,1\n",
            "1,2\n",
            "2,0\n",
            "2,1\n",
            "2,2\n",
            "3,0\n",
            "3,1\n",
            "3,2\n"
          ]
        }
      ]
    },
    {
      "cell_type": "code",
      "source": [
        "#list\n",
        "\n",
        "a=['cat','dog','otter']\n",
        "print(a[1])\n",
        "print(a)"
      ],
      "metadata": {
        "colab": {
          "base_uri": "https://localhost:8080/"
        },
        "id": "95u3nPHtFxTA",
        "outputId": "ff265547-5cdc-46dd-fa92-c4b3c16ffd90"
      },
      "execution_count": 50,
      "outputs": [
        {
          "output_type": "stream",
          "name": "stdout",
          "text": [
            "dog\n",
            "['cat', 'dog', 'otter']\n"
          ]
        }
      ]
    },
    {
      "cell_type": "code",
      "source": [
        "a=[1,2,3,4,5,5,5]\n",
        "a.append(15)\n",
        "a.insert(2,20)\n",
        "print(a)\n",
        "a.remove(5)\n",
        "print(a)\n",
        "print(a.index(20))\n"
      ],
      "metadata": {
        "colab": {
          "base_uri": "https://localhost:8080/"
        },
        "id": "OCJ9fmI5GUno",
        "outputId": "a9319177-dc47-4beb-8123-380a4c087a7b"
      },
      "execution_count": 54,
      "outputs": [
        {
          "output_type": "stream",
          "name": "stdout",
          "text": [
            "[1, 2, 20, 3, 4, 5, 5, 5, 15]\n",
            "[1, 2, 20, 3, 4, 5, 5, 15]\n"
          ]
        }
      ]
    },
    {
      "cell_type": "code",
      "source": [
        "a=[1,2,3,4,1,3,4]\n",
        "b=[]\n",
        "for i in a:\n",
        "  if(i in b):\n",
        "    continue\n",
        "  else :\n",
        "    b.append(i)\n",
        "print(b)"
      ],
      "metadata": {
        "colab": {
          "base_uri": "https://localhost:8080/"
        },
        "id": "KeIPcDZPIScR",
        "outputId": "011aef28-2b09-4225-b7b9-1786779a83f5"
      },
      "execution_count": 57,
      "outputs": [
        {
          "output_type": "stream",
          "name": "stdout",
          "text": [
            "[1, 2, 3, 4]\n"
          ]
        }
      ]
    },
    {
      "cell_type": "code",
      "source": [
        "#function\n",
        "\n",
        "def sqrfunc(a):\n",
        "  return a**2\n",
        "\n",
        "print(sqrfunc(3))"
      ],
      "metadata": {
        "colab": {
          "base_uri": "https://localhost:8080/"
        },
        "id": "nkD3FfpjKcpH",
        "outputId": "a7e8c83a-8b76-4867-e857-8c52f5018523"
      },
      "execution_count": 58,
      "outputs": [
        {
          "output_type": "stream",
          "name": "stdout",
          "text": [
            "9\n"
          ]
        }
      ]
    },
    {
      "cell_type": "code",
      "source": [
        "#To numpy\n",
        "\n",
        "import numpy as np\n",
        "a=np.array([1,2,3])\n",
        "b=np.array([[1,2,3],[4,5,6]],dtype='int16')\n",
        "\n",
        "b.dtype #by default int64"
      ],
      "metadata": {
        "colab": {
          "base_uri": "https://localhost:8080/"
        },
        "id": "Do5U7Lv-LAKL",
        "outputId": "c7d294fd-d0a2-4404-c500-b7f4da029810"
      },
      "execution_count": 66,
      "outputs": [
        {
          "output_type": "execute_result",
          "data": {
            "text/plain": [
              "dtype('int16')"
            ]
          },
          "metadata": {},
          "execution_count": 66
        }
      ]
    },
    {
      "cell_type": "code",
      "source": [
        "#np.zeros,np.ones\n",
        "\n",
        "np.random.rand(2,3)\n",
        "np.full((2,3),99)\n",
        "np.identity(5)"
      ],
      "metadata": {
        "colab": {
          "base_uri": "https://localhost:8080/"
        },
        "id": "3HI8JvW-Ola-",
        "outputId": "994d8b5d-f9ec-4b99-f4be-0c32e35fa4f9"
      },
      "execution_count": 70,
      "outputs": [
        {
          "output_type": "execute_result",
          "data": {
            "text/plain": [
              "array([[1., 0., 0., 0., 0.],\n",
              "       [0., 1., 0., 0., 0.],\n",
              "       [0., 0., 1., 0., 0.],\n",
              "       [0., 0., 0., 1., 0.],\n",
              "       [0., 0., 0., 0., 1.]])"
            ]
          },
          "metadata": {},
          "execution_count": 70
        }
      ]
    },
    {
      "cell_type": "code",
      "source": [
        "#matplotlib\n",
        "\n",
        "import matplotlib.pyplot as plt\n",
        "import numpy as np\n",
        "import math\n",
        "\n",
        "x=np.linspace(1,40,2000)\n",
        "#print(x)\n",
        "y=np.sin(x)\n",
        "#print(y1)\n",
        "\n",
        "plt.plot(x,y,color='orange')\n",
        "plt.show()"
      ],
      "metadata": {
        "colab": {
          "base_uri": "https://localhost:8080/",
          "height": 430
        },
        "id": "ybkRQxmIPISK",
        "outputId": "a4432454-b8b1-4779-b4f3-1d75c1923fe8"
      },
      "execution_count": 96,
      "outputs": [
        {
          "output_type": "display_data",
          "data": {
            "text/plain": [
              "<Figure size 640x480 with 1 Axes>"
            ],
            "image/png": "[encoded data removed]"
          },
          "metadata": {}
        }
      ]
    },
    {
      "cell_type": "code",
      "source": [
        "t=np.linspace(1,20,100)\n",
        "y= 4*np.sin(2*3.1416*5*t)\n",
        "\n",
        "plt.plot(t,y)\n",
        "plt.show()"
      ],
      "metadata": {
        "colab": {
          "base_uri": "https://localhost:8080/",
          "height": 430
        },
        "id": "XwfuOO7RTNcc",
        "outputId": "9879e6d6-5ba5-4594-fbb4-2045ea8fcd5e"
      },
      "execution_count": 97,
      "outputs": [
        {
          "output_type": "display_data",
          "data": {
            "text/plain": [
              "<Figure size 640x480 with 1 Axes>"
            ],
            "image/png": "[encoded data removed]"
          },
          "metadata": {}
        }
      ]
    },
    {
      "cell_type": "code",
      "source": [],
      "metadata": {
        "id": "ibSBnRh6EUbc"
      },
      "execution_count": null,
      "outputs": []
    }
  ]
}